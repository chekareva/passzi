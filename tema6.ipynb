{
 "cells": [
  {
   "cell_type": "markdown",
   "metadata": {},
   "source": [
    "<a href=\"https://colab.research.google.com/github/Quitedeer/doklad/blob/master/DokladTema6.ipynb\"><img align=\"left\" src=\"https://colab.research.google.com/assets/colab-badge.svg\" alt=\"Open in Colab\" title=\"Open and Execute in Google Colaboratory\" target=\"_blank\"></a>"
   ]
  },
  {
   "cell_type": "markdown",
   "metadata": {},
   "source": [
    "# Time, datetime, calendar"
   ]
  },
  {
   "cell_type": "markdown",
   "metadata": {},
   "source": [
    "## Модуль time"
   ]
  },
  {
   "cell_type": "markdown",
   "metadata": {},
   "source": [
    "![title](https://www.myata-event.com.ua/wp-content/uploads/2018/04/19719769.jpg-r_1280_720-f_jpg-q_x-xxyxx.jpg)"
   ]
  },
  {
   "cell_type": "markdown",
   "metadata": {},
   "source": [
    "Модуль **time** обеспечивает доступ к нескольким типам часов, каждый из которых предназначен для использования в различных целях.\n",
    "\n",
    "Работа методов из модуля **time** основывается на общепринятой системе описания времени. Отправной точкой для времени считается ***1 января 1970 года***, когда счетчик секунд имел полностью нулевое значение. С тех пор это число постоянно растет, позволяя людям работать с различными видами дат в максимально точном представлении."
   ]
  },
  {
   "cell_type": "markdown",
   "metadata": {},
   "source": [
    "Функция **time()** возвращает число секунд, прошедших с начала эпохи. Для операционных систем Unix 1 января 1970, 00:00:00 (UTC) — начало эпохи"
   ]
  },
  {
   "cell_type": "code",
   "execution_count": 12,
   "metadata": {},
   "outputs": [
    {
     "name": "stdout",
     "output_type": "stream",
     "text": [
      "1601033662.5855865\n"
     ]
    }
   ],
   "source": [
    "import time \n",
    "print(time.time())"
   ]
  },
  {
   "cell_type": "markdown",
   "metadata": {},
   "source": [
    "Функция **time.ctime()** принимает в качестве аргумента количество секунд, прошедших с начала эпохи, и возвращает строку, представляющую собой местное время."
   ]
  },
  {
   "cell_type": "code",
   "execution_count": 1,
   "metadata": {},
   "outputs": [
    {
     "name": "stdout",
     "output_type": "stream",
     "text": [
      "Tue Sep 29 15:43:12 2020\n"
     ]
    }
   ],
   "source": [
    "import time \n",
    "print(time.ctime())"
   ]
  },
  {
   "cell_type": "markdown",
   "metadata": {},
   "source": [
    "### Методы модуля Time"
   ]
  },
  {
   "cell_type": "markdown",
   "metadata": {},
   "source": [
    "Метод **sleep()** останавливает ход выполнения программы ровно на s (данное количество) секунд."
   ]
  },
  {
   "cell_type": "code",
   "execution_count": 15,
   "metadata": {},
   "outputs": [
    {
     "name": "stdout",
     "output_type": "stream",
     "text": [
      "Program started...\n",
      "10 seconds passed.\n"
     ]
    }
   ],
   "source": [
    "import time \n",
    "pause = 10 \n",
    "print(\"Program started...\") \n",
    "time.sleep(pause) \n",
    "print(str(pause) + \" seconds passed.\")"
   ]
  },
  {
   "cell_type": "markdown",
   "metadata": {},
   "source": [
    "Класс **time.struct_time** \n",
    "\n",
    "Некоторые методы в модуле time принимают объект time.struct_time в качестве аргумента или возвращают его.  \n",
    "Вот пример объекта time. struct_time."
   ]
  },
  {
   "cell_type": "markdown",
   "metadata": {},
   "source": [
    "![title](https://qph.fs.quoracdn.net/main-qimg-c80cd3fb9b97e62c818af1435184bbe7)"
   ]
  },
  {
   "cell_type": "markdown",
   "metadata": {},
   "source": [
    "К значениям объекта **time.struct_time** доступ можно получить как с помощью индексов, так и через атрибуты.\n",
    "\n",
    "\n",
    "Метод **localtime()** принимает в качестве аргумента количество секунд, прошедших с начала эпохи, и возвращает **struct_time** в локальном времени."
   ]
  },
  {
   "cell_type": "code",
   "execution_count": 4,
   "metadata": {},
   "outputs": [
    {
     "name": "stdout",
     "output_type": "stream",
     "text": [
      "результат: time.struct_time(tm_year=2019, tm_mon=12, tm_mday=7, tm_hour=15, tm_min=30, tm_sec=30, tm_wday=5, tm_yday=341, tm_isdst=0)\n",
      "year: 2019\n",
      "tm_hour: 15\n"
     ]
    }
   ],
   "source": [
    "import time \n",
    "result = time.localtime(1575721830) \n",
    "print(\"результат:\", result) \n",
    "print(\"year:\", result.tm_year) \n",
    "print(\"tm_hour:\", result.tm_hour)"
   ]
  },
  {
   "cell_type": "markdown",
   "metadata": {},
   "source": [
    "Если **localtime()** передан аргумент None, то вернется значение из **time().**\n",
    "\n",
    "Метод **gmtime()** принимает в качестве аргумента количество секунд, прошедших с начала эпохи и возвращает struct_time в UTC."
   ]
  },
  {
   "cell_type": "code",
   "execution_count": 5,
   "metadata": {},
   "outputs": [
    {
     "name": "stdout",
     "output_type": "stream",
     "text": [
      "результат: time.struct_time(tm_year=2019, tm_mon=12, tm_mday=7, tm_hour=12, tm_min=30, tm_sec=30, tm_wday=5, tm_yday=341, tm_isdst=0)\n",
      "year: 2019\n",
      "tm_hour: 12\n"
     ]
    }
   ],
   "source": [
    "import time \n",
    "result = time.gmtime(1575721830) \n",
    "print(\"результат:\", result) \n",
    "print(\"year:\", result.tm_year) \n",
    "print(\"tm_hour:\", result.tm_hour)"
   ]
  },
  {
   "cell_type": "markdown",
   "metadata": {},
   "source": [
    "  \n",
    "\n",
    "Метод **mktime()** принимает struct_time в качестве аргумента и возвращает количество секунд, прошедших с начала эпохи, в местном времени. Это функция, обратная localtime()."
   ]
  },
  {
   "cell_type": "code",
   "execution_count": 6,
   "metadata": {},
   "outputs": [
    {
     "name": "stdout",
     "output_type": "stream",
     "text": [
      "Местное время: 1575718230.0\n"
     ]
    }
   ],
   "source": [
    "import time \n",
    "t = (2019, 12, 7, 14, 30, 30, 5, 341, 0) \n",
    "local_time = time.mktime(t) \n",
    "print(\"Местное время:\", local_time)"
   ]
  },
  {
   "cell_type": "markdown",
   "metadata": {},
   "source": [
    "Метод **asctime()** принимает struct_time в качестве аргумента и возвращает строку, представляющую собой дату."
   ]
  },
  {
   "cell_type": "code",
   "execution_count": 21,
   "metadata": {},
   "outputs": [
    {
     "name": "stdout",
     "output_type": "stream",
     "text": [
      "Результат: Sat Dec  7 14:30:30 2019\n"
     ]
    }
   ],
   "source": [
    "import time \n",
    "t = (2019, 12, 7, 14, 30, 30, 5, 341, 0) \n",
    "result = time.asctime(t) \n",
    "print(\"Результат:\", result)"
   ]
  },
  {
   "cell_type": "markdown",
   "metadata": {},
   "source": [
    "Метод **strftime** принимает stuct_time в качестве аргумента и возвращает строку с датой в зависимости от использованного формата."
   ]
  },
  {
   "cell_type": "code",
   "execution_count": 5,
   "metadata": {},
   "outputs": [
    {
     "name": "stdout",
     "output_type": "stream",
     "text": [
      "29/09/2020, 16:07:46\n"
     ]
    }
   ],
   "source": [
    "import time \n",
    "named_tuple = time.localtime() # получить struct_time \n",
    "time_string = time.strftime(\"%d/%m/%Y, %H:%M:%S\", named_tuple) \n",
    "print(time_string)"
   ]
  },
  {
   "cell_type": "markdown",
   "metadata": {},
   "source": [
    "Здесь %Y, %m, %d, %H и другие — элементы форматирования.\n",
    "\n",
    "· %Y — год [0001,…, 2019, 2020,…, 9999]\n",
    "\n",
    "· %m — месяц [01, 02, …, 11, 12]\n",
    "\n",
    "· %d — день [01, 02, …, 30, 31]\n",
    "\n",
    "· %H — час [00, 01, …, 22, 23\n",
    "\n",
    "· %M — минута [00, 01, …, 58, 59]\n",
    "\n",
    "· %S — секунда [00, 01, …, 58, 61]"
   ]
  },
  {
   "cell_type": "markdown",
   "metadata": {},
   "source": [
    "Метод **strptime()** делает разбор строки python, в которой упоминается время и возвращает struct_time."
   ]
  },
  {
   "cell_type": "code",
   "execution_count": 4,
   "metadata": {},
   "outputs": [
    {
     "name": "stdout",
     "output_type": "stream",
     "text": [
      "time.struct_time(tm_year=2019, tm_mon=6, tm_mday=15, tm_hour=0, tm_min=0, tm_sec=0, tm_wday=5, tm_yday=166, tm_isdst=-1)\n"
     ]
    }
   ],
   "source": [
    "import time \n",
    "time_string = \"15 June, 2019\" \n",
    "result = time.strptime(time_string, \"%d %B, %Y\") \n",
    "print(result)"
   ]
  },
  {
   "cell_type": "markdown",
   "metadata": {},
   "source": [
    "Метод **monotonic()** точно представляет измеряемое количество времени, вне зависимости от работы ОС и текущей платформы."
   ]
  },
  {
   "cell_type": "code",
   "execution_count": 2,
   "metadata": {},
   "outputs": [
    {
     "name": "stdout",
     "output_type": "stream",
     "text": [
      "Program time: 15.000 seconds.\n"
     ]
    }
   ],
   "source": [
    "import time \n",
    "start = time.monotonic() \n",
    "time.sleep(15) \n",
    "result = time.monotonic() - start\n",
    "print(\"Program time: {:>.3f}\".format(result) + \" seconds.\")"
   ]
  },
  {
   "cell_type": "markdown",
   "metadata": {},
   "source": [
    "## Модуль Datetime"
   ]
  },
  {
   "cell_type": "markdown",
   "metadata": {},
   "source": [
    "Модуль **datetime** используется для работы в Python со временем и датами, позволяя представлять данную информацию в наиболее удобной форме. Она состоит из нескольких классов. Благодаря их наличию, мы получаем доступ к многим полезным методам: \n",
    "-Получение текущих системных даты и времени;  \n",
    "-Вычисления разницы между датами и другие арифметические операции;  \n",
    "-Операциям, которые позволяют сравнивать время;  \n",
    "-Форматированный вывод информации о дате и времени."
   ]
  },
  {
   "cell_type": "markdown",
   "metadata": {},
   "source": [
    "### Классы библиотеки"
   ]
  },
  {
   "cell_type": "markdown",
   "metadata": {},
   "source": [
    "Класс **date** используется для представления данных о дате, которые включают год, месяц и число. Для создания объектов типа date следует произвести вызов одноименного конструктора, указав ему в качестве параметров сведения о дате. При этом нельзя забывать о порядке, в котором находятся аргументы: год, затем месяц и число."
   ]
  },
  {
   "cell_type": "code",
   "execution_count": 3,
   "metadata": {},
   "outputs": [
    {
     "name": "stdout",
     "output_type": "stream",
     "text": [
      "2020-09-25\n",
      "<class 'datetime.date'>\n"
     ]
    }
   ],
   "source": [
    "import datetime \n",
    "a=datetime.date(2020, 9, 25) \n",
    "print(a) \n",
    "print(type(a))"
   ]
  },
  {
   "cell_type": "markdown",
   "metadata": {},
   "source": [
    "Если необходимо получить информацию о текущей дате, совсем необязательно вызывать стандартный конструктор date и вручную вбивать подходящие значения. С этой задачей как нельзя лучше справляется встроенный метод **today**."
   ]
  },
  {
   "cell_type": "code",
   "execution_count": 6,
   "metadata": {},
   "outputs": [
    {
     "name": "stdout",
     "output_type": "stream",
     "text": [
      "2020-09-29\n"
     ]
    }
   ],
   "source": [
    "import datetime \n",
    "a = datetime.date.today() \n",
    "print(a)"
   ]
  },
  {
   "cell_type": "markdown",
   "metadata": {},
   "source": [
    "Иногда приходится работать не только с общими сведениями о дате, но и с отдельными ее составляющими, годом, месяцем или днем. Получить доступ к данным свойствам объекта можно с помощью оператора точки."
   ]
  },
  {
   "cell_type": "code",
   "execution_count": 5,
   "metadata": {},
   "outputs": [
    {
     "name": "stdout",
     "output_type": "stream",
     "text": [
      "2012\n",
      "12\n",
      "12\n"
     ]
    }
   ],
   "source": [
    "import datetime \n",
    "a = datetime.date(2012, 12, 12)\n",
    "print(a.year) \n",
    "print(a.month) \n",
    "print(a.day)"
   ]
  },
  {
   "cell_type": "markdown",
   "metadata": {},
   "source": [
    "Класс **time** служит для демонстрации данных о времени, полностью игнорируя дату. Создать объект, принадлежащий к типу **time** можно с помощью конструктора, который принимает такие аргументы как количество часов, минут, секунд и микросекунд. Указывая данные параметры, не стоит забывать об их необходимом порядке, расставляя числа на правильных позициях."
   ]
  },
  {
   "cell_type": "code",
   "execution_count": 6,
   "metadata": {},
   "outputs": [
    {
     "name": "stdout",
     "output_type": "stream",
     "text": [
      "12:18:35.005867\n",
      "<class 'datetime.time'>\n"
     ]
    }
   ],
   "source": [
    "import datetime \n",
    "a = datetime.time(12, 18, 35, 5867) \n",
    "print(a) \n",
    "print(type(a))"
   ]
  },
  {
   "cell_type": "markdown",
   "metadata": {},
   "source": [
    "Чтобы создать объект типа time необязательно указывать все его свойства в конструкторе."
   ]
  },
  {
   "cell_type": "code",
   "execution_count": 7,
   "metadata": {},
   "outputs": [
    {
     "name": "stdout",
     "output_type": "stream",
     "text": [
      "20:04:50\n",
      "07:30:00\n",
      "12:00:00\n"
     ]
    }
   ],
   "source": [
    "import datetime \n",
    "a = datetime.time(20, 4, 50) \n",
    "b = datetime.time(7, 30) \n",
    "c = datetime.time(12) \n",
    "print(a) \n",
    "print(b) \n",
    "print(c)"
   ]
  },
  {
   "cell_type": "markdown",
   "metadata": {},
   "source": [
    "Также, как и в классе **date**, пользуясь **time**, можно получать доступ к отдельным значениям созданного ранее объекта: часам, минутам, секундам и микросекундам. Для этого нужно применить оператор точка, после чего указать конкретное свойство."
   ]
  },
  {
   "cell_type": "code",
   "execution_count": 9,
   "metadata": {},
   "outputs": [
    {
     "name": "stdout",
     "output_type": "stream",
     "text": [
      "16\n",
      "3\n",
      "49\n",
      "23578\n"
     ]
    }
   ],
   "source": [
    "import datetime \n",
    "a = datetime.time(16, 3, 49, 23578) \n",
    "print(a.hour) \n",
    "print(a.minute) \n",
    "print(a.second) \n",
    "print(a.microsecond)"
   ]
  },
  {
   "cell_type": "markdown",
   "metadata": {},
   "source": [
    "Класс **datetime** позволяет описывать данные об определенном моменте во времени, который учитывает не только часы и минуты, но и сведения о дате. Как и в случае с предыдущими типами объектов, здесь используется конструктор с несколькими аргументами под каждое значение."
   ]
  },
  {
   "cell_type": "code",
   "execution_count": 10,
   "metadata": {},
   "outputs": [
    {
     "name": "stdout",
     "output_type": "stream",
     "text": [
      "2020-08-19 04:52:33.051204\n",
      "<class 'datetime.datetime'>\n"
     ]
    }
   ],
   "source": [
    "import datetime \n",
    "c = datetime.datetime(2020, 8, 19, 4, 52, 33, 51204) \n",
    "print(c) \n",
    "print(type(c))"
   ]
  },
  {
   "cell_type": "markdown",
   "metadata": {},
   "source": [
    "Создавать объекты можно с разным набором параметров, указывая только нужные сведения. Отсутствующие данные по умолчанию будут заполнены нулями."
   ]
  },
  {
   "cell_type": "code",
   "execution_count": 12,
   "metadata": {},
   "outputs": [
    {
     "name": "stdout",
     "output_type": "stream",
     "text": [
      "2007-02-13 00:00:00\n",
      "2013-10-25 12:08:47\n"
     ]
    }
   ],
   "source": [
    "import datetime \n",
    "a = datetime.datetime(2007, 2, 13) \n",
    "b = datetime.datetime(2013, 10, 25, 12, 8, 47) \n",
    "print(a) \n",
    "print(b)"
   ]
  },
  {
   "cell_type": "markdown",
   "metadata": {},
   "source": [
    "Получить текущий момент времени можно при помощи двух разных методов, один из которых уже использовался ранее в **date**."
   ]
  },
  {
   "cell_type": "code",
   "execution_count": 7,
   "metadata": {},
   "outputs": [
    {
     "name": "stdout",
     "output_type": "stream",
     "text": [
      "2020-09-29 16:20:44.816587\n",
      "2020-09-29 16:20:44.816587\n"
     ]
    }
   ],
   "source": [
    "import datetime \n",
    "a = datetime.datetime.today() \n",
    "b = datetime.datetime.now() \n",
    "print(a) \n",
    "print(b)"
   ]
  },
  {
   "cell_type": "markdown",
   "metadata": {},
   "source": [
    "Существует определенный формат, в котором дата и время выводятся по умолчанию, но данное представление не всегда удовлетворяет запросы пользователя. Чтобы в Python преобразовать дату и время в строку нужного формата, следует воспользоваться методом **strftime**, указав ему в качестве аргумента параметры форматирования."
   ]
  },
  {
   "cell_type": "code",
   "execution_count": 14,
   "metadata": {},
   "outputs": [
    {
     "name": "stdout",
     "output_type": "stream",
     "text": [
      "27.09.2020\n",
      "14:19:32\n"
     ]
    }
   ],
   "source": [
    "import datetime \n",
    "a = datetime.datetime.today().strftime(\"%d.%m.%Y\") \n",
    "b = datetime.datetime.today().strftime(\"%H:%M:%S\") \n",
    "print(a) \n",
    "print(b)"
   ]
  },
  {
   "cell_type": "markdown",
   "metadata": {},
   "source": [
    "Как и в случае с **time** и **date**, в классе **datetime** пользователь в состоянии получать доступ к отдельным свойствам созданного объекта."
   ]
  },
  {
   "cell_type": "code",
   "execution_count": 1,
   "metadata": {},
   "outputs": [
    {
     "name": "stdout",
     "output_type": "stream",
     "text": [
      "2020\n",
      "3\n",
      "27\n",
      "8\n",
      "12\n",
      "24\n",
      "34574\n"
     ]
    }
   ],
   "source": [
    "import datetime \n",
    "a = datetime.datetime(2020, 3, 27, 8, 12, 24, 34574) \n",
    "print(a.year) \n",
    "print(a.month) \n",
    "print(a.day) \n",
    "print(a.hour) \n",
    "print(a.minute) \n",
    "print(a.second) \n",
    "print(a.microsecond)"
   ]
  },
  {
   "cell_type": "markdown",
   "metadata": {},
   "source": [
    "Сформировать новый объект типа **datetime** можно и с помощью двух разных объектов, представляющих время и дату (**time и date**). Для этого используется функция **combine**."
   ]
  },
  {
   "cell_type": "code",
   "execution_count": 2,
   "metadata": {},
   "outputs": [
    {
     "name": "stdout",
     "output_type": "stream",
     "text": [
      "2020-03-19 02:10:43\n"
     ]
    }
   ],
   "source": [
    "from datetime import datetime, date, time \n",
    "a = date(2020, 3, 19) \n",
    "b = time(2, 10, 43) \n",
    "c = datetime.combine(a, b) \n",
    "print(c)"
   ]
  },
  {
   "cell_type": "markdown",
   "metadata": {},
   "source": [
    "Классы **tzinfo** и **timezone** применяются для работы с информацией, которая содержит сведения о часовых поясах. Создать объект, принадлежащий типу **tzinfo** невозможно, поскольку этот класс является абстрактным. Однако можно воспользоваться наследованием, создав собственный класс на основе **tzinfo**. При этом следует помнить, что для работы с такими объектами придется реализовать несколько абстрактных методов, к числу которых относятся **utcoffset** (смещение по местному времени с UTC), **dst** (настройка перехода на летнее время), а также функция **tzname** (имя часового пояса в виде строки)."
   ]
  },
  {
   "cell_type": "code",
   "execution_count": 6,
   "metadata": {},
   "outputs": [
    {
     "name": "stdout",
     "output_type": "stream",
     "text": [
      "2020-09-29 10:25:32.961110+00:00\n",
      "2020-09-29 15:55:32.961110+05:30\n",
      "5:30:00\n",
      "UTC0530\n",
      "0:00:00\n"
     ]
    }
   ],
   "source": [
    "from datetime import tzinfo, timedelta, datetime, timezone \n",
    "class UTC0530(tzinfo): \n",
    "    def __init__(self, offset=19800, name=None): \n",
    "        self.offset = timedelta(seconds=offset) \n",
    "        self.name = name or self.__class__.__name__ \n",
    "    def utcoffset(self, dt): \n",
    "            return self.offset \n",
    "    def tzname(self, dt): \n",
    "            return self.name \n",
    "    def dst(self, dt): \n",
    "            return timedelta(0) \n",
    "a = datetime.now(timezone.utc) \n",
    "print(a) \n",
    "b = datetime.now(UTC0530()) \n",
    "print(b) \n",
    "print(b.utcoffset()) \n",
    "print(b.tzname()) \n",
    "print(b.dst())"
   ]
  },
  {
   "cell_type": "markdown",
   "metadata": {},
   "source": [
    "Класс **timedelta** предназначен для удобного выполнения различных манипуляций над датами и временем. Можно создать объект данного класса, воспользовавшись конструктором. Аргументами являются дни, часы, минуты, секунды, микросекунды и недели, задать которые можно с помощью прямого обращения к именам свойств, как это показано в следующем примере."
   ]
  },
  {
   "cell_type": "code",
   "execution_count": 7,
   "metadata": {},
   "outputs": [
    {
     "name": "stdout",
     "output_type": "stream",
     "text": [
      "5 days, 21:02:37\n",
      "<class 'datetime.timedelta'>\n"
     ]
    }
   ],
   "source": [
    "from datetime import timedelta \n",
    "a = timedelta(days=5, hours=21, minutes=2, seconds=37) \n",
    "print(a) \n",
    "print(type(a))"
   ]
  },
  {
   "cell_type": "markdown",
   "metadata": {},
   "source": [
    "### Операции\n",
    "\n",
    "Пользуясь классом **datetime**, можно легко находить разницу между двумя разными датами. Следующим пример демонстрирует создание двух объектов. Переменная a представляет собой дату, которую передает ей метод now, а b задается при помощи конструктора вручную. Выполнив простую операцию нахождения разницы между объектами a и b, можно получить третий объект c."
   ]
  },
  {
   "cell_type": "code",
   "execution_count": 9,
   "metadata": {},
   "outputs": [
    {
     "name": "stdout",
     "output_type": "stream",
     "text": [
      "2019\n",
      "56961\n",
      "320689\n"
     ]
    }
   ],
   "source": [
    "from datetime import datetime \n",
    "a = datetime.now() \n",
    "b = datetime(2015, 3, 21) \n",
    "c = a-b \n",
    "print(c.days) \n",
    "print(c.seconds) \n",
    "print(c.microseconds)"
   ]
  },
  {
   "cell_type": "markdown",
   "metadata": {},
   "source": [
    "Перечень доступных операций, с которыми можно работать, располагается в следующей таблице. Здесь находятся примеры операций и их назначение."
   ]
  },
  {
   "cell_type": "markdown",
   "metadata": {},
   "source": [
    "![tablica](https://sun9-71.userapi.com/vyKg2HXi9mw0tXOtVEPK8mOG_P01AMZzx1qABQ/jQDzq63irEM.jpg)"
   ]
  },
  {
   "cell_type": "markdown",
   "metadata": {},
   "source": [
    "## Модуль Calendar"
   ]
  },
  {
   "cell_type": "markdown",
   "metadata": {},
   "source": [
    "Модуль **calendar** определяет класс **Calendar**, инкапсулирующий вычисление таких значений, как даты дней недели в заданном месяце или году.\n",
    "\n",
    "В качестве примера получим двухмерный список всех дней в сентябре 2020 года, распределение по дням недели:"
   ]
  },
  {
   "cell_type": "code",
   "execution_count": 13,
   "metadata": {},
   "outputs": [
    {
     "name": "stdout",
     "output_type": "stream",
     "text": [
      "[[0, 1, 2, 3, 4, 5, 6], [7, 8, 9, 10, 11, 12, 13], [14, 15, 16, 17, 18, 19, 20], [21, 22, 23, 24, 25, 26, 27], [28, 29, 30, 0, 0, 0, 0]]\n"
     ]
    }
   ],
   "source": [
    "import calendar \n",
    "c = calendar.Calendar(0) \n",
    "print(c.monthdayscalendar(2020, 9))"
   ]
  },
  {
   "cell_type": "markdown",
   "metadata": {},
   "source": [
    "**TextCalendar** позволяет вывести календарь в виде простого текста."
   ]
  },
  {
   "cell_type": "code",
   "execution_count": 14,
   "metadata": {},
   "outputs": [
    {
     "name": "stdout",
     "output_type": "stream",
     "text": [
      "                                  2020\n",
      "\n",
      "      January                   February                   March\n",
      "Mo Tu We Th Fr Sa Su      Mo Tu We Th Fr Sa Su      Mo Tu We Th Fr Sa Su\n",
      "       1  2  3  4  5                      1  2                         1\n",
      " 6  7  8  9 10 11 12       3  4  5  6  7  8  9       2  3  4  5  6  7  8\n",
      "13 14 15 16 17 18 19      10 11 12 13 14 15 16       9 10 11 12 13 14 15\n",
      "20 21 22 23 24 25 26      17 18 19 20 21 22 23      16 17 18 19 20 21 22\n",
      "27 28 29 30 31            24 25 26 27 28 29         23 24 25 26 27 28 29\n",
      "                                                    30 31\n",
      "\n",
      "       April                      May                       June\n",
      "Mo Tu We Th Fr Sa Su      Mo Tu We Th Fr Sa Su      Mo Tu We Th Fr Sa Su\n",
      "       1  2  3  4  5                   1  2  3       1  2  3  4  5  6  7\n",
      " 6  7  8  9 10 11 12       4  5  6  7  8  9 10       8  9 10 11 12 13 14\n",
      "13 14 15 16 17 18 19      11 12 13 14 15 16 17      15 16 17 18 19 20 21\n",
      "20 21 22 23 24 25 26      18 19 20 21 22 23 24      22 23 24 25 26 27 28\n",
      "27 28 29 30               25 26 27 28 29 30 31      29 30\n",
      "\n",
      "        July                     August                  September\n",
      "Mo Tu We Th Fr Sa Su      Mo Tu We Th Fr Sa Su      Mo Tu We Th Fr Sa Su\n",
      "       1  2  3  4  5                      1  2          1  2  3  4  5  6\n",
      " 6  7  8  9 10 11 12       3  4  5  6  7  8  9       7  8  9 10 11 12 13\n",
      "13 14 15 16 17 18 19      10 11 12 13 14 15 16      14 15 16 17 18 19 20\n",
      "20 21 22 23 24 25 26      17 18 19 20 21 22 23      21 22 23 24 25 26 27\n",
      "27 28 29 30 31            24 25 26 27 28 29 30      28 29 30\n",
      "                          31\n",
      "\n",
      "      October                   November                  December\n",
      "Mo Tu We Th Fr Sa Su      Mo Tu We Th Fr Sa Su      Mo Tu We Th Fr Sa Su\n",
      "          1  2  3  4                         1          1  2  3  4  5  6\n",
      " 5  6  7  8  9 10 11       2  3  4  5  6  7  8       7  8  9 10 11 12 13\n",
      "12 13 14 15 16 17 18       9 10 11 12 13 14 15      14 15 16 17 18 19 20\n",
      "19 20 21 22 23 24 25      16 17 18 19 20 21 22      21 22 23 24 25 26 27\n",
      "26 27 28 29 30 31         23 24 25 26 27 28 29      28 29 30 31\n",
      "                          30\n",
      "\n"
     ]
    }
   ],
   "source": [
    "c = calendar.TextCalendar(0) \n",
    "print(c.formatyear(2020))"
   ]
  },
  {
   "cell_type": "markdown",
   "metadata": {},
   "source": [
    "**LocaleTextCalendar** позволяет вывести календарь в виде простого текста. Названия месяцев и дней недели выводятся в соответствии с указанной локалью. Выведем календарь на весь 2020 год:"
   ]
  },
  {
   "cell_type": "code",
   "execution_count": 24,
   "metadata": {},
   "outputs": [
    {
     "name": "stdout",
     "output_type": "stream",
     "text": [
      "                                  2020\n",
      "\n",
      "      January                   February                   March\n",
      "Mo Tu We Th Fr Sa Su      Mo Tu We Th Fr Sa Su      Mo Tu We Th Fr Sa Su\n",
      "       1  2  3  4  5                      1  2                         1\n",
      " 6  7  8  9 10 11 12       3  4  5  6  7  8  9       2  3  4  5  6  7  8\n",
      "13 14 15 16 17 18 19      10 11 12 13 14 15 16       9 10 11 12 13 14 15\n",
      "20 21 22 23 24 25 26      17 18 19 20 21 22 23      16 17 18 19 20 21 22\n",
      "27 28 29 30 31            24 25 26 27 28 29         23 24 25 26 27 28 29\n",
      "                                                    30 31\n",
      "\n",
      "       April                      May                       June\n",
      "Mo Tu We Th Fr Sa Su      Mo Tu We Th Fr Sa Su      Mo Tu We Th Fr Sa Su\n",
      "       1  2  3  4  5                   1  2  3       1  2  3  4  5  6  7\n",
      " 6  7  8  9 10 11 12       4  5  6  7  8  9 10       8  9 10 11 12 13 14\n",
      "13 14 15 16 17 18 19      11 12 13 14 15 16 17      15 16 17 18 19 20 21\n",
      "20 21 22 23 24 25 26      18 19 20 21 22 23 24      22 23 24 25 26 27 28\n",
      "27 28 29 30               25 26 27 28 29 30 31      29 30\n",
      "\n",
      "        July                     August                  September\n",
      "Mo Tu We Th Fr Sa Su      Mo Tu We Th Fr Sa Su      Mo Tu We Th Fr Sa Su\n",
      "       1  2  3  4  5                      1  2          1  2  3  4  5  6\n",
      " 6  7  8  9 10 11 12       3  4  5  6  7  8  9       7  8  9 10 11 12 13\n",
      "13 14 15 16 17 18 19      10 11 12 13 14 15 16      14 15 16 17 18 19 20\n",
      "20 21 22 23 24 25 26      17 18 19 20 21 22 23      21 22 23 24 25 26 27\n",
      "27 28 29 30 31            24 25 26 27 28 29 30      28 29 30\n",
      "                          31\n",
      "\n",
      "      October                   November                  December\n",
      "Mo Tu We Th Fr Sa Su      Mo Tu We Th Fr Sa Su      Mo Tu We Th Fr Sa Su\n",
      "          1  2  3  4                         1          1  2  3  4  5  6\n",
      " 5  6  7  8  9 10 11       2  3  4  5  6  7  8       7  8  9 10 11 12 13\n",
      "12 13 14 15 16 17 18       9 10 11 12 13 14 15      14 15 16 17 18 19 20\n",
      "19 20 21 22 23 24 25      16 17 18 19 20 21 22      21 22 23 24 25 26 27\n",
      "26 27 28 29 30 31         23 24 25 26 27 28 29      28 29 30 31\n",
      "                          30\n",
      "\n"
     ]
    }
   ],
   "source": [
    "c = calendar.LocaleTextCalendar(0, 'en_AU') \n",
    "print(c.formatyear(2020))"
   ]
  },
  {
   "cell_type": "markdown",
   "metadata": {},
   "source": [
    "**HTMLCalendar** позволяет вывести календарь в формате HTML. "
   ]
  },
  {
   "cell_type": "code",
   "execution_count": null,
   "metadata": {},
   "outputs": [],
   "source": [
    "c = calendar.HTMLCalendar(0) \n",
    "print(c.formatyear(2013))"
   ]
  },
  {
   "cell_type": "markdown",
   "metadata": {},
   "source": [
    "### Задания"
   ]
  },
  {
   "cell_type": "markdown",
   "metadata": {},
   "source": [
    "**Задача 1.** С помощью функции из модуля time, узнайте сколько сейчас секунд по местному времени."
   ]
  },
  {
   "cell_type": "code",
   "execution_count": 1,
   "metadata": {},
   "outputs": [],
   "source": [
    "import time\n",
    "# ваш код"
   ]
  },
  {
   "cell_type": "markdown",
   "metadata": {},
   "source": [
    "**Задача 2.** Рассчитайте разницу между датами: a= 01.10.2020, b= 29.09.2018."
   ]
  },
  {
   "cell_type": "code",
   "execution_count": null,
   "metadata": {},
   "outputs": [],
   "source": [
    "import datetime\n",
    "# ваш код"
   ]
  },
  {
   "cell_type": "markdown",
   "metadata": {},
   "source": [
    "**Задача 3.** Выведете календарь на октябрь 2020 года"
   ]
  },
  {
   "cell_type": "code",
   "execution_count": null,
   "metadata": {},
   "outputs": [],
   "source": [
    "import calendar\n",
    "# ваш код"
   ]
  }
 ],
 "metadata": {
  "kernelspec": {
   "display_name": "Python 3",
   "language": "python",
   "name": "python3"
  },
  "language_info": {
   "codemirror_mode": {
    "name": "ipython",
    "version": 3
   },
   "file_extension": ".py",
   "mimetype": "text/x-python",
   "name": "python",
   "nbconvert_exporter": "python",
   "pygments_lexer": "ipython3",
   "version": "3.8.3"
  }
 },
 "nbformat": 4,
 "nbformat_minor": 4
}
